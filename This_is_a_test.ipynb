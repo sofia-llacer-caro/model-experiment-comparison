{
 "cells": [
  {
   "cell_type": "code",
   "execution_count": 1,
   "metadata": {},
   "outputs": [],
   "source": [
    "import pandas as pd\n",
    "import numpy as np"
   ]
  },
  {
   "cell_type": "code",
   "execution_count": 3,
   "metadata": {},
   "outputs": [
    {
     "name": "stdout",
     "output_type": "stream",
     "text": [
      "               XErrorHigh  Y  YErrorLow  YErrorHigh  Unnamed: 3  Unnamed: 4\n",
      "X  XErrorLow                                                               \n",
      "2.275         0.000000e+00 0.000000e+00      0.0296    0.001281    0.001281\n",
      "2.535         0.000000e+00 0.000000e+00      0.0274    0.001097    0.001097\n",
      "2.820         0.000000e+00 0.000000e+00      0.0258    0.000977    0.000977\n",
      "3.130         0.000000e+00 0.000000e+00      0.0234    0.000860    0.000860\n",
      "3.465         0.000000e+00 0.000000e+00      0.0210    0.000753    0.000753\n"
     ]
    }
   ],
   "source": [
    "url = 'https://raw.githubusercontent.com/sofia-llacer-caro/model-experiment-comparison/main/AMS_FluorineFlux_vsRigidity.txt'\n",
    "df1 = pd.read_fwf(url, index_col=0)\n",
    "print(df1.head(5))"
   ]
  }
 ],
 "metadata": {
  "kernelspec": {
   "display_name": "base",
   "language": "python",
   "name": "python3"
  },
  "language_info": {
   "codemirror_mode": {
    "name": "ipython",
    "version": 3
   },
   "file_extension": ".py",
   "mimetype": "text/x-python",
   "name": "python",
   "nbconvert_exporter": "python",
   "pygments_lexer": "ipython3",
   "version": "3.9.13"
  },
  "orig_nbformat": 4,
  "vscode": {
   "interpreter": {
    "hash": "6cec7fd68fd1b36ed05ece2a49fd3b85d2edbc54cc094d2e7c31eab60aea10a2"
   }
  }
 },
 "nbformat": 4,
 "nbformat_minor": 2
}
