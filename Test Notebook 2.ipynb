{
 "cells": [
  {
   "cell_type": "markdown",
   "id": "434424de",
   "metadata": {},
   "source": [
    "# Packages needed + data importing"
   ]
  },
  {
   "cell_type": "code",
   "execution_count": 1,
   "id": "b7815d1a",
   "metadata": {},
   "outputs": [],
   "source": [
    "# Numpy is a library for arrays/ matrices and mathematical functions\n",
    "import numpy as np\n",
    "# For plotting\n",
    "import matplotlib.pyplot as plt\n",
    "# For data import\n",
    "import pandas as pd\n",
    "import io\n",
    "from scipy import interpolate"
   ]
  },
  {
   "cell_type": "code",
   "execution_count": null,
   "id": "c4fbbb47",
   "metadata": {},
   "outputs": [],
   "source": [
    "from google.colab import files\n",
    "uploaded = files.upload()"
   ]
  },
  {
   "cell_type": "code",
   "execution_count": null,
   "id": "a5694241",
   "metadata": {},
   "outputs": [],
   "source": [
    "df1 = pd.read_excel(io.BytesIO(uploaded['AMS_flux_vs_rigidity.xlsx']))"
   ]
  },
  {
   "cell_type": "code",
   "execution_count": null,
   "id": "599c96c2",
   "metadata": {},
   "outputs": [],
   "source": [
    "from google.colab import files\n",
    "uploaded = files.upload()"
   ]
  },
  {
   "cell_type": "code",
   "execution_count": null,
   "id": "9cab849c",
   "metadata": {},
   "outputs": [],
   "source": [
    "df2 = pd.read_excel(io.BytesIO(uploaded['baseline_vsR_0.3GV.xlsx']))"
   ]
  },
  {
   "cell_type": "code",
   "execution_count": null,
   "id": "d213e32f",
   "metadata": {},
   "outputs": [],
   "source": [
    "from google.colab import files\n",
    "uploaded = files.upload()"
   ]
  },
  {
   "cell_type": "code",
   "execution_count": null,
   "id": "992cc5f9",
   "metadata": {},
   "outputs": [],
   "source": [
    "df3 = pd.read_excel(io.BytesIO(uploaded['baseline_vsR_0.9GV.xlsx']))"
   ]
  },
  {
   "cell_type": "code",
   "execution_count": null,
   "id": "7a9e77eb",
   "metadata": {},
   "outputs": [],
   "source": [
    "from google.colab import files\n",
    "uploaded = files.upload()"
   ]
  },
  {
   "cell_type": "code",
   "execution_count": null,
   "id": "023d3907",
   "metadata": {},
   "outputs": [],
   "source": [
    "df4 = pd.read_excel(io.BytesIO(uploaded['baseline_vsR.xlsx']))"
   ]
  },
  {
   "cell_type": "code",
   "execution_count": null,
   "id": "12d3f29a",
   "metadata": {},
   "outputs": [],
   "source": [
    "from google.colab import files\n",
    "uploaded = files.upload()"
   ]
  },
  {
   "cell_type": "code",
   "execution_count": null,
   "id": "29133fe9",
   "metadata": {},
   "outputs": [],
   "source": [
    "df5 = pd.read_excel(io.BytesIO(uploaded['nobreak_vsR_0.3GV.xlsx']))"
   ]
  },
  {
   "cell_type": "code",
   "execution_count": null,
   "id": "3cd3d34f",
   "metadata": {},
   "outputs": [],
   "source": [
    "from google.colab import files\n",
    "uploaded = files.upload()"
   ]
  },
  {
   "cell_type": "code",
   "execution_count": null,
   "id": "8bf57661",
   "metadata": {},
   "outputs": [],
   "source": [
    "df6 = pd.read_excel(io.BytesIO(uploaded['nobreak_vsR_0.9GV.xlsx']))"
   ]
  },
  {
   "cell_type": "code",
   "execution_count": null,
   "id": "8324d403",
   "metadata": {},
   "outputs": [],
   "source": [
    "from google.colab import files\n",
    "uploaded = files.upload()"
   ]
  },
  {
   "cell_type": "code",
   "execution_count": null,
   "id": "c66c39e2",
   "metadata": {},
   "outputs": [],
   "source": [
    "df7 = pd.read_excel(io.BytesIO(uploaded['nobreak_vsR_0.67GV.xlsx']))"
   ]
  },
  {
   "cell_type": "markdown",
   "id": "ec434159",
   "metadata": {},
   "source": [
    "# Definition of variables, interpolation of the simulations + plotting raw data"
   ]
  },
  {
   "cell_type": "code",
   "execution_count": null,
   "id": "694172e5",
   "metadata": {},
   "outputs": [],
   "source": [
    "# AMS data\n",
    "ams_rig = np.array(df1['X'])\n",
    "ams_flux = np.array(df1['Y'])\n",
    "ams_flux_err = np.array(df1['YErrorHigh'])\n",
    "# Rescale flux to R^(2.7)\n",
    "ams_flux_rig_rescale = ams_flux * (ams_rig ** 2.7)\n",
    "ams_flux_rig_rescale_err = ams_flux_err * (ams_rig ** 2.7)\n",
    "\n",
    "\n",
    "# SIMULATIONS DATA; bl0: baseline_vsR, bl3: baseline_vsR_0.3GV, bl9: baseline_vsR_0.9GV, nb3: no break, etc.\n",
    "bl3_rig = np.array(df2['R'])\n",
    "bl3_flux = np.array(df2['TOA'])\n",
    "bl3_flux_rig_rescale = bl3_flux * (bl3_rig ** 2.7)\n",
    "\n",
    "\n",
    "bl9_rig = np.array(df3['R'])\n",
    "bl9_flux = np.array(df3['TOA'])\n",
    "bl9_flux_rig_rescale = bl9_flux * (bl9_rig ** 2.7)\n",
    "\n",
    "\n",
    "bl0_rig = np.array(df4['R'])\n",
    "bl0_flux = np.array(df4['TOA'])\n",
    "bl0_flux_rig_rescale = bl0_flux * (bl0_rig ** 2.7)\n",
    "\n",
    "\n",
    "nb3_rig = np.array(df5['R'])\n",
    "nb3_flux = np.array(df5['TOA'])\n",
    "nb3_flux_rig_rescale = nb3_flux * (nb3_rig ** 2.7)\n",
    "\n",
    "\n",
    "nb9_rig = np.array(df6['R'])\n",
    "nb9_flux = np.array(df6['TOA'])\n",
    "nb9_flux_rig_rescale = nb9_flux * (nb9_rig ** 2.7)\n",
    "\n",
    "\n",
    "nb67_rig = np.array(df7['R'])\n",
    "nb67_flux = np.array(df7['TOA'])\n",
    "nb67_flux_rig_rescale = nb67_flux * (nb67_rig ** 2.7)"
   ]
  },
  {
   "cell_type": "code",
   "execution_count": null,
   "id": "5d0d26c5",
   "metadata": {},
   "outputs": [],
   "source": [
    "# INTERPOLATION OF AMS DATA\n",
    "#x = ams_rig\n",
    "#y = ams_flux_rig_rescale\n",
    "#tck = interpolate.splrep(x, y, s=0)\n",
    "#xnew = np.arange(ams_rig[0], ams_rig[-1], 1)\n",
    "#ynew = interpolate.splev(xnew, tck, der=0)\n",
    "\n",
    "# INTERPOLATION OF BASELINE 0.3GV SIMULATION\n",
    "tckbl3 = interpolate.splrep(bl3_rig, bl3_flux_rig_rescale, s=0)\n",
    "#new_bl3_rig = np.arange(ams_rig[0], ams_rig[-1], 1)\n",
    "new_bl3_flux_rig_rescale = interpolate.splev(ams_rig, tckbl3, der=0)\n",
    "\n",
    "# INTERPOLATION OF BASELINE 0.9GV SIMULATION\n",
    "tckbl9 = interpolate.splrep(bl9_rig, bl9_flux_rig_rescale, s=0)\n",
    "#new_bl9_rig = np.arange(ams_rig[0], ams_rig[-1], 1)\n",
    "new_bl9_flux_rig_rescale = interpolate.splev(ams_rig, tckbl9, der=0)\n",
    "\n",
    "# INTERPOLATION OF BASELINE SIMULATION\n",
    "tckbl0 = interpolate.splrep(bl0_rig, bl0_flux_rig_rescale, s=0)\n",
    "#new_bl0_rig = np.arange(ams_rig[0], ams_rig[-1], 1)\n",
    "new_bl0_flux_rig_rescale = interpolate.splev(ams_rig, tckbl0, der=0)\n",
    "\n",
    "# INTERPOLATION OF NO BREAK 0.3GV SIMULATION\n",
    "tcknb3 = interpolate.splrep(nb3_rig, nb3_flux_rig_rescale, s=0)\n",
    "#new_nb3_rig = np.arange(ams_rig[0], ams_rig[-1], 1)\n",
    "new_nb3_flux_rig_rescale = interpolate.splev(ams_rig, tcknb3, der=0)\n",
    "\n",
    "# INTERPOLATION OF NO BREAK 0.9GV SIMULATION\n",
    "tcknb9 = interpolate.splrep(nb9_rig, nb9_flux_rig_rescale, s=0)\n",
    "#new_nb9_rig = np.arange(ams_rig[0], ams_rig[-1], 1)\n",
    "new_nb9_flux_rig_rescale = interpolate.splev(ams_rig, tcknb9, der=0)\n",
    "\n",
    "# INTERPOLATION OF NO BREAK 0.67GV SIMULATION\n",
    "tcknb67 = interpolate.splrep(nb67_rig, nb67_flux_rig_rescale, s=0)\n",
    "#new_nb67_rig = np.arange(ams_rig[0], ams_rig[-1])\n",
    "new_nb67_flux_rig_rescale = interpolate.splev(ams_rig, tcknb67, der=0)\n",
    "\n",
    "\n",
    "#print(new_nb67_flux_rig_rescale)"
   ]
  },
  {
   "cell_type": "code",
   "execution_count": null,
   "id": "2065e652",
   "metadata": {},
   "outputs": [],
   "source": [
    "# Plot the results\n",
    "fig, ax = plt.subplots(dpi=200)\n",
    "ax.plot(ams_rig, ams_flux_rig_rescale, '.', label = 'AMS data', marker = '.', markersize=2, color = 'cornflowerblue')\n",
    "ax.errorbar(ams_rig, ams_flux_rig_rescale, yerr=ams_flux_rig_rescale_err, marker = ',', linestyle='None', elinewidth=0.5, color = 'cornflowerblue')\n",
    "ax.plot(ams_rig, new_bl3_flux_rig_rescale, '-', label = 'Baseline, α = 0.300GV', marker = '.', linewidth=0.7, markersize=0.8, color = 'moccasin')\n",
    "ax.plot(ams_rig, new_bl0_flux_rig_rescale, '-', label = 'Baseline, α = 0.670GV', marker = '.', markersize=0.5, linewidth=0.8, color = 'sandybrown')\n",
    "ax.plot(ams_rig, new_bl9_flux_rig_rescale, '-', label = 'Baseline, α = 0.900GV', marker = '.', markersize=0.5, linewidth=0.8, color = 'chocolate')\n",
    "ax.plot(ams_rig, new_nb3_flux_rig_rescale, ':', label = 'No break, α = 0.300GV', marker = '.', markersize=0.5, linewidth=0.8, color = 'moccasin')\n",
    "ax.plot(ams_rig, new_nb67_flux_rig_rescale, ':', label = 'No break, α = 0.670GV', marker = '.', markersize=0.5, linewidth=0.8, color = 'sandybrown')\n",
    "ax.plot(ams_rig, new_nb9_flux_rig_rescale, ':', label = 'No break, α = 0.900GV', marker = '.', markersize=0.5, linewidth=0.8, color = 'chocolate')\n",
    "\n",
    "\n",
    "#ax.errorbar(ams_rig, ams_flux_rig_rescale, yerr = 0, xerr = ams_flux_rig_rescale_err,fmt='none')\n",
    "\n",
    "\n",
    "\n",
    "ax.legend(loc=3, prop={'size': 8})\n",
    "ax.set_xscale('log')\n",
    "ax.set_yscale('log')\n",
    "ax.set_xlabel('Rigidity (GV)')\n",
    "ax.set_ylabel('$\\Phi R^{2.7}$ ((m$^2\\cdot$s$\\cdot$sr)$^{-1}\\cdot$GV$^{1.7}$)') #m^{2} s sr GV)^{-1})\n",
    "ax.grid('True')"
   ]
  },
  {
   "cell_type": "markdown",
   "id": "831e5182",
   "metadata": {},
   "source": [
    "# Deviation between experimental data and models"
   ]
  },
  {
   "cell_type": "code",
   "execution_count": null,
   "id": "2534f87c",
   "metadata": {},
   "outputs": [],
   "source": [
    "# RESIDUE DATA\n",
    "res_ams = np.subtract(ams_flux_rig_rescale, ams_flux_rig_rescale)\n",
    "res_bl3 = np.subtract(new_bl3_flux_rig_rescale, ams_flux_rig_rescale)\n",
    "res_bl9 = np.subtract(new_bl9_flux_rig_rescale, ams_flux_rig_rescale)\n",
    "res_bl0 = np.subtract(new_bl0_flux_rig_rescale, ams_flux_rig_rescale)\n",
    "res_nb3 = np.subtract(new_nb3_flux_rig_rescale, ams_flux_rig_rescale)\n",
    "res_nb9 = np.subtract(new_nb9_flux_rig_rescale, ams_flux_rig_rescale)\n",
    "res_nb67 = np.subtract(new_nb67_flux_rig_rescale, ams_flux_rig_rescale)"
   ]
  },
  {
   "cell_type": "code",
   "execution_count": null,
   "id": "23358d0e",
   "metadata": {},
   "outputs": [],
   "source": [
    "# PLOT RESIDUE DATA\n",
    "fig, ax = plt.subplots(dpi=200)\n",
    "ax.plot(ams_rig, res_ams, '.', label = 'AMS data', marker = '.', markersize=2, color = 'cornflowerblue')\n",
    "ax.errorbar(ams_rig, res_ams, yerr=ams_flux_rig_rescale_err, marker = ',', linestyle='None', elinewidth=0.5, color = 'cornflowerblue')\n",
    "\n",
    "ax.plot(ams_rig, res_bl3, '-', label = 'Baseline, α = 0.300GV', marker = '.', linewidth=0.7, markersize=0.8, color = 'moccasin')\n",
    "ax.plot(ams_rig, res_bl0, '-', label = 'Baseline, α = 0.670GV', marker = '.', markersize=0.5, linewidth=0.8, color = 'sandybrown')\n",
    "ax.plot(ams_rig, res_bl9, '-', label = 'Baseline, α = 0.900GV', marker = '.', markersize=0.5, linewidth=0.8, color = 'chocolate')\n",
    "ax.plot(ams_rig, res_nb3, ':', label = 'No break, α = 0.300GV', marker = '.', markersize=0.5, linewidth=0.8, color = 'moccasin')\n",
    "ax.plot(ams_rig, res_nb67, ':', label = 'No break, α = 0.670GV', marker = '.', markersize=0.5, linewidth=0.8, color = 'sandybrown')\n",
    "ax.plot(ams_rig, res_nb9, ':', label = 'No break, α = 0.900GV', marker = '.', markersize=0.5, linewidth=0.8, color = 'chocolate')\n",
    "\n",
    "ax.legend(loc=1, prop={'size': 6})\n",
    "ax.set_xscale('log')\n",
    "ax.set_xlabel('Rigidity (GV)')\n",
    "ax.set_ylabel('Residue ((m$^2\\cdot$s$\\cdot$sr)$^{-1}\\cdot$GV$^{1.7}$)')\n",
    "ax.grid('True')"
   ]
  }
 ],
 "metadata": {
  "kernelspec": {
   "display_name": "Python 3 (ipykernel)",
   "language": "python",
   "name": "python3"
  },
  "language_info": {
   "codemirror_mode": {
    "name": "ipython",
    "version": 3
   },
   "file_extension": ".py",
   "mimetype": "text/x-python",
   "name": "python",
   "nbconvert_exporter": "python",
   "pygments_lexer": "ipython3",
   "version": "3.9.13"
  }
 },
 "nbformat": 4,
 "nbformat_minor": 5
}
